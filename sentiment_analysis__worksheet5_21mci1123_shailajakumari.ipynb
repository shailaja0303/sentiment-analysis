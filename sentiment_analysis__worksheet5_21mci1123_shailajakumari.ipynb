{
  "cells": [
    {
      "cell_type": "markdown",
      "metadata": {
        "id": "p2IOglGkGnRu"
      },
      "source": [
        "# Sentiment Analysis\n",
        "### Using TextBlob\n",
        "#### TextBlob is a Python package for text processing. It offers a straightforward API for delving into typical natural language processing (NLP) activities like part-of-speech tagging, noun phrase extraction, sentiment analysis, classification, translation, and more."
      ]
    },
    {
      "cell_type": "code",
      "source": [
        " "
      ],
      "metadata": {
        "id": "poBxQFwyMLK0"
      },
      "execution_count": null,
      "outputs": []
    },
    {
      "cell_type": "markdown",
      "metadata": {
        "id": "t6bTo_ZRGnR0"
      },
      "source": [
        "Importing dataset"
      ]
    },
    {
      "cell_type": "code",
      "execution_count": null,
      "metadata": {
        "id": "EmlPiikaGnR2",
        "outputId": "33043ddb-483b-4d5d-c1bc-322df3ab98d1"
      },
      "outputs": [
        {
          "name": "stdout",
          "output_type": "stream",
          "text": [
            "Requirement already satisfied: pandas in c:\\users\\ranjit.singh\\appdata\\local\\programs\\python\\python39\\lib\\site-packages (1.3.5)\n",
            "Requirement already satisfied: python-dateutil>=2.7.3 in c:\\users\\ranjit.singh\\appdata\\local\\programs\\python\\python39\\lib\\site-packages (from pandas) (2.8.2)\n",
            "Requirement already satisfied: pytz>=2017.3 in c:\\users\\ranjit.singh\\appdata\\local\\programs\\python\\python39\\lib\\site-packages (from pandas) (2021.3)\n",
            "Requirement already satisfied: numpy>=1.17.3 in c:\\users\\ranjit.singh\\appdata\\local\\programs\\python\\python39\\lib\\site-packages (from pandas) (1.22.1)\n",
            "Requirement already satisfied: six>=1.5 in c:\\users\\ranjit.singh\\appdata\\local\\programs\\python\\python39\\lib\\site-packages (from python-dateutil>=2.7.3->pandas) (1.16.0)\n",
            "Note: you may need to restart the kernel to use updated packages.\n"
          ]
        },
        {
          "name": "stderr",
          "output_type": "stream",
          "text": [
            "WARNING: You are using pip version 21.2.4; however, version 21.3.1 is available.\n",
            "You should consider upgrading via the 'C:\\Users\\Ranjit.Singh\\AppData\\Local\\Programs\\Python\\Python39\\python.exe -m pip install --upgrade pip' command.\n"
          ]
        }
      ],
      "source": [
        "pip install pandas"
      ]
    },
    {
      "cell_type": "code",
      "execution_count": null,
      "metadata": {
        "colab": {
          "base_uri": "https://localhost:8080/"
        },
        "id": "s40oo0UoGnR5",
        "outputId": "5c3e829d-b391-424f-aaec-08ec3d9cda6c"
      },
      "outputs": [
        {
          "output_type": "stream",
          "name": "stdout",
          "text": [
            "Requirement already satisfied: TextBlob in /usr/local/lib/python3.7/dist-packages (0.15.3)\n",
            "Requirement already satisfied: nltk>=3.1 in /usr/local/lib/python3.7/dist-packages (from TextBlob) (3.2.5)\n",
            "Requirement already satisfied: six in /usr/local/lib/python3.7/dist-packages (from nltk>=3.1->TextBlob) (1.15.0)\n"
          ]
        }
      ],
      "source": [
        "pip install TextBlob"
      ]
    },
    {
      "cell_type": "code",
      "execution_count": null,
      "metadata": {
        "colab": {
          "base_uri": "https://localhost:8080/"
        },
        "id": "IlKxuLFfGnR6",
        "outputId": "0ebfd671-9985-4090-ce2b-85ab79602a50"
      },
      "outputs": [
        {
          "output_type": "stream",
          "name": "stdout",
          "text": [
            "Requirement already satisfied: matplotlib in /usr/local/lib/python3.7/dist-packages (3.2.2)\n",
            "Requirement already satisfied: pyparsing!=2.0.4,!=2.1.2,!=2.1.6,>=2.0.1 in /usr/local/lib/python3.7/dist-packages (from matplotlib) (3.0.7)\n",
            "Requirement already satisfied: numpy>=1.11 in /usr/local/lib/python3.7/dist-packages (from matplotlib) (1.21.5)\n",
            "Requirement already satisfied: cycler>=0.10 in /usr/local/lib/python3.7/dist-packages (from matplotlib) (0.11.0)\n",
            "Requirement already satisfied: python-dateutil>=2.1 in /usr/local/lib/python3.7/dist-packages (from matplotlib) (2.8.2)\n",
            "Requirement already satisfied: kiwisolver>=1.0.1 in /usr/local/lib/python3.7/dist-packages (from matplotlib) (1.3.2)\n",
            "Requirement already satisfied: six>=1.5 in /usr/local/lib/python3.7/dist-packages (from python-dateutil>=2.1->matplotlib) (1.15.0)\n"
          ]
        }
      ],
      "source": [
        "pip install matplotlib"
      ]
    },
    {
      "cell_type": "code",
      "execution_count": null,
      "metadata": {
        "id": "UM9_t8HCGnR6"
      },
      "outputs": [],
      "source": [
        "import pandas as pd        #importing pandas library\n",
        "\n",
        "# Creating a pandas amazon_one_plus_reviews.json file\n",
        "data = pd.read_csv('/content/reviews.csv')\n",
        "data=data.dropna()         # to drop null values in the dataset\n",
        " "
      ]
    },
    {
      "cell_type": "code",
      "source": [
        "data.tail(10)                 #to show last 10 rows from the dataset\n"
      ],
      "metadata": {
        "colab": {
          "base_uri": "https://localhost:8080/",
          "height": 1000
        },
        "id": "tG8zas0iWqpM",
        "outputId": "c7da713e-4eb8-48c8-f794-fc4d144399f2"
      },
      "execution_count": null,
      "outputs": [
        {
          "output_type": "execute_result",
          "data": {
            "text/plain": [
              "                                                reviewId         userName  \\\n",
              "11550  gp:AOqpTOH99HBrLEPtEDVFgm_G161QE4MC-yEWijoCjPc...    Brian Pereira   \n",
              "11559  gp:AOqpTOGAk4hYxlr1Pv43KdSnYeVjw7OuhQXvdD5Mw4O...    Derek Soutiea   \n",
              "11560  gp:AOqpTOFLPLgW8OFtycSHcZl21raLOUuySRXXYXYL5Nd...      Zintle Joko   \n",
              "11746  gp:AOqpTOFm9ARf6ndPARPJWxPmcctIioiiMjG3KHn_Air...    Chris Wornham   \n",
              "11874  gp:AOqpTOF3g0DZr0LTw_GJ8VYOM8AGuk9Hyk1nzgD5QB5...       ashy smith   \n",
              "11875  gp:AOqpTOHJPGqKlHV-M7BUDJmy5IPrW0suxfZNusvris4...      Steve Peach   \n",
              "11945  gp:AOqpTOHv08qhcs9_pgDUZkWToG28to-lhf1REWer2Ht...   steven Ulewicz   \n",
              "11949  gp:AOqpTOEBPybXpCNsipTLiUwE5POZzA-Zq7Ko-aEA5WQ...  Dustin Hamilton   \n",
              "11950  gp:AOqpTOE3XpYixxVuyWdS5FwOvmKyLa7NnCPW4GmRNpq...       Bill Teele   \n",
              "12103  gp:AOqpTOFtoXvBAFQJ5M6EqiIxmG7vNLEMt7KWtjg67s8...      Allie Cruce   \n",
              "\n",
              "                                               userImage  \\\n",
              "11550  https://play-lh.googleusercontent.com/-1MiTCz-...   \n",
              "11559  https://play-lh.googleusercontent.com/a-/AOh14...   \n",
              "11560  https://play-lh.googleusercontent.com/a-/AOh14...   \n",
              "11746  https://play-lh.googleusercontent.com/-iR-J0x7...   \n",
              "11874  https://play-lh.googleusercontent.com/a-/AOh14...   \n",
              "11875  https://play-lh.googleusercontent.com/a-/AOh14...   \n",
              "11945  https://play-lh.googleusercontent.com/-N1_Dwn2...   \n",
              "11949  https://play-lh.googleusercontent.com/-iPCictM...   \n",
              "11950  https://play-lh.googleusercontent.com/-CYtj1_C...   \n",
              "12103  https://play-lh.googleusercontent.com/a-/AOh14...   \n",
              "\n",
              "                                                 content  score  \\\n",
              "11550  Too many bugs in 10 minutes of use to keep. I ...      1   \n",
              "11559  Now hold on. I paid for the \"premium version\" ...      1   \n",
              "11560                      Wont let me create an account      1   \n",
              "11746  I paid for the premium so I can get things rep...      2   \n",
              "11874  I already had bought the full version and now ...      2   \n",
              "11875  Suddenly need a subscription?  After I had pai...      2   \n",
              "11945  Can't load past notes it does work sometimes b...      3   \n",
              "11949  I like this app but sometimes it just closes a...      3   \n",
              "11950  Not bad. Wish it happens the option for more t...      3   \n",
              "12103  Excellent Application! Would've given 5 stars ...      4   \n",
              "\n",
              "       thumbsUpCount reviewCreatedVersion                   at  \\\n",
              "11550              9                5.0.5  2020-09-11 17:44:45   \n",
              "11559              1                5.0.2  2020-07-02 04:43:00   \n",
              "11560              1                5.0.2  2020-07-01 10:12:23   \n",
              "11746             24                5.0.6  2020-10-01 07:21:04   \n",
              "11874              4                4.1.1  2016-07-22 12:32:05   \n",
              "11875             21                4.1.1  2016-07-18 02:26:59   \n",
              "11945              0                5.0.7  2020-10-24 17:43:53   \n",
              "11949              4                5.0.6  2020-09-28 17:23:18   \n",
              "11950              0                5.0.6  2020-09-27 21:33:46   \n",
              "12103              2                5.0.5  2020-10-02 13:12:08   \n",
              "\n",
              "                                            replyContent            repliedAt  \\\n",
              "11550  Hi, would you please contact us at planner.a@a...  2020-09-15 06:35:43   \n",
              "11559  Hi, please contact us at planner.a@appxy.com, ...  2020-07-02 06:01:25   \n",
              "11560  Hi, please contact us at planner.a@appxy.com a...  2020-07-02 06:01:58   \n",
              "11746  Hi, would you please contact us at planner.a@a...  2020-10-02 19:20:01   \n",
              "11874  Please contact us at planner.a@appxy.com, we'l...  2016-08-02 14:58:36   \n",
              "11875  Dear Steven, please contact us at planner.a@ap...  2016-07-18 16:19:35   \n",
              "11945  Hi, would you please contact us at planner.a@a...  2020-10-26 10:57:10   \n",
              "11949  Hi, would you please contact us at planner.a@a...  2020-09-29 07:56:34   \n",
              "11950  Thanks for your feedback. Would you please tel...  2020-09-29 07:56:05   \n",
              "12103  Hi, would you please contact us at planner.a@a...  2020-10-02 19:18:50   \n",
              "\n",
              "      sortOrder              appId  \n",
              "11550    newest  com.appxy.planner  \n",
              "11559    newest  com.appxy.planner  \n",
              "11560    newest  com.appxy.planner  \n",
              "11746    newest  com.appxy.planner  \n",
              "11874    newest  com.appxy.planner  \n",
              "11875    newest  com.appxy.planner  \n",
              "11945    newest  com.appxy.planner  \n",
              "11949    newest  com.appxy.planner  \n",
              "11950    newest  com.appxy.planner  \n",
              "12103    newest  com.appxy.planner  "
            ],
            "text/html": [
              "\n",
              "  <div id=\"df-7980c0b7-e0b4-4c8a-93c3-c314fcb2558c\">\n",
              "    <div class=\"colab-df-container\">\n",
              "      <div>\n",
              "<style scoped>\n",
              "    .dataframe tbody tr th:only-of-type {\n",
              "        vertical-align: middle;\n",
              "    }\n",
              "\n",
              "    .dataframe tbody tr th {\n",
              "        vertical-align: top;\n",
              "    }\n",
              "\n",
              "    .dataframe thead th {\n",
              "        text-align: right;\n",
              "    }\n",
              "</style>\n",
              "<table border=\"1\" class=\"dataframe\">\n",
              "  <thead>\n",
              "    <tr style=\"text-align: right;\">\n",
              "      <th></th>\n",
              "      <th>reviewId</th>\n",
              "      <th>userName</th>\n",
              "      <th>userImage</th>\n",
              "      <th>content</th>\n",
              "      <th>score</th>\n",
              "      <th>thumbsUpCount</th>\n",
              "      <th>reviewCreatedVersion</th>\n",
              "      <th>at</th>\n",
              "      <th>replyContent</th>\n",
              "      <th>repliedAt</th>\n",
              "      <th>sortOrder</th>\n",
              "      <th>appId</th>\n",
              "    </tr>\n",
              "  </thead>\n",
              "  <tbody>\n",
              "    <tr>\n",
              "      <th>11550</th>\n",
              "      <td>gp:AOqpTOH99HBrLEPtEDVFgm_G161QE4MC-yEWijoCjPc...</td>\n",
              "      <td>Brian Pereira</td>\n",
              "      <td>https://play-lh.googleusercontent.com/-1MiTCz-...</td>\n",
              "      <td>Too many bugs in 10 minutes of use to keep. I ...</td>\n",
              "      <td>1</td>\n",
              "      <td>9</td>\n",
              "      <td>5.0.5</td>\n",
              "      <td>2020-09-11 17:44:45</td>\n",
              "      <td>Hi, would you please contact us at planner.a@a...</td>\n",
              "      <td>2020-09-15 06:35:43</td>\n",
              "      <td>newest</td>\n",
              "      <td>com.appxy.planner</td>\n",
              "    </tr>\n",
              "    <tr>\n",
              "      <th>11559</th>\n",
              "      <td>gp:AOqpTOGAk4hYxlr1Pv43KdSnYeVjw7OuhQXvdD5Mw4O...</td>\n",
              "      <td>Derek Soutiea</td>\n",
              "      <td>https://play-lh.googleusercontent.com/a-/AOh14...</td>\n",
              "      <td>Now hold on. I paid for the \"premium version\" ...</td>\n",
              "      <td>1</td>\n",
              "      <td>1</td>\n",
              "      <td>5.0.2</td>\n",
              "      <td>2020-07-02 04:43:00</td>\n",
              "      <td>Hi, please contact us at planner.a@appxy.com, ...</td>\n",
              "      <td>2020-07-02 06:01:25</td>\n",
              "      <td>newest</td>\n",
              "      <td>com.appxy.planner</td>\n",
              "    </tr>\n",
              "    <tr>\n",
              "      <th>11560</th>\n",
              "      <td>gp:AOqpTOFLPLgW8OFtycSHcZl21raLOUuySRXXYXYL5Nd...</td>\n",
              "      <td>Zintle Joko</td>\n",
              "      <td>https://play-lh.googleusercontent.com/a-/AOh14...</td>\n",
              "      <td>Wont let me create an account</td>\n",
              "      <td>1</td>\n",
              "      <td>1</td>\n",
              "      <td>5.0.2</td>\n",
              "      <td>2020-07-01 10:12:23</td>\n",
              "      <td>Hi, please contact us at planner.a@appxy.com a...</td>\n",
              "      <td>2020-07-02 06:01:58</td>\n",
              "      <td>newest</td>\n",
              "      <td>com.appxy.planner</td>\n",
              "    </tr>\n",
              "    <tr>\n",
              "      <th>11746</th>\n",
              "      <td>gp:AOqpTOFm9ARf6ndPARPJWxPmcctIioiiMjG3KHn_Air...</td>\n",
              "      <td>Chris Wornham</td>\n",
              "      <td>https://play-lh.googleusercontent.com/-iR-J0x7...</td>\n",
              "      <td>I paid for the premium so I can get things rep...</td>\n",
              "      <td>2</td>\n",
              "      <td>24</td>\n",
              "      <td>5.0.6</td>\n",
              "      <td>2020-10-01 07:21:04</td>\n",
              "      <td>Hi, would you please contact us at planner.a@a...</td>\n",
              "      <td>2020-10-02 19:20:01</td>\n",
              "      <td>newest</td>\n",
              "      <td>com.appxy.planner</td>\n",
              "    </tr>\n",
              "    <tr>\n",
              "      <th>11874</th>\n",
              "      <td>gp:AOqpTOF3g0DZr0LTw_GJ8VYOM8AGuk9Hyk1nzgD5QB5...</td>\n",
              "      <td>ashy smith</td>\n",
              "      <td>https://play-lh.googleusercontent.com/a-/AOh14...</td>\n",
              "      <td>I already had bought the full version and now ...</td>\n",
              "      <td>2</td>\n",
              "      <td>4</td>\n",
              "      <td>4.1.1</td>\n",
              "      <td>2016-07-22 12:32:05</td>\n",
              "      <td>Please contact us at planner.a@appxy.com, we'l...</td>\n",
              "      <td>2016-08-02 14:58:36</td>\n",
              "      <td>newest</td>\n",
              "      <td>com.appxy.planner</td>\n",
              "    </tr>\n",
              "    <tr>\n",
              "      <th>11875</th>\n",
              "      <td>gp:AOqpTOHJPGqKlHV-M7BUDJmy5IPrW0suxfZNusvris4...</td>\n",
              "      <td>Steve Peach</td>\n",
              "      <td>https://play-lh.googleusercontent.com/a-/AOh14...</td>\n",
              "      <td>Suddenly need a subscription?  After I had pai...</td>\n",
              "      <td>2</td>\n",
              "      <td>21</td>\n",
              "      <td>4.1.1</td>\n",
              "      <td>2016-07-18 02:26:59</td>\n",
              "      <td>Dear Steven, please contact us at planner.a@ap...</td>\n",
              "      <td>2016-07-18 16:19:35</td>\n",
              "      <td>newest</td>\n",
              "      <td>com.appxy.planner</td>\n",
              "    </tr>\n",
              "    <tr>\n",
              "      <th>11945</th>\n",
              "      <td>gp:AOqpTOHv08qhcs9_pgDUZkWToG28to-lhf1REWer2Ht...</td>\n",
              "      <td>steven Ulewicz</td>\n",
              "      <td>https://play-lh.googleusercontent.com/-N1_Dwn2...</td>\n",
              "      <td>Can't load past notes it does work sometimes b...</td>\n",
              "      <td>3</td>\n",
              "      <td>0</td>\n",
              "      <td>5.0.7</td>\n",
              "      <td>2020-10-24 17:43:53</td>\n",
              "      <td>Hi, would you please contact us at planner.a@a...</td>\n",
              "      <td>2020-10-26 10:57:10</td>\n",
              "      <td>newest</td>\n",
              "      <td>com.appxy.planner</td>\n",
              "    </tr>\n",
              "    <tr>\n",
              "      <th>11949</th>\n",
              "      <td>gp:AOqpTOEBPybXpCNsipTLiUwE5POZzA-Zq7Ko-aEA5WQ...</td>\n",
              "      <td>Dustin Hamilton</td>\n",
              "      <td>https://play-lh.googleusercontent.com/-iPCictM...</td>\n",
              "      <td>I like this app but sometimes it just closes a...</td>\n",
              "      <td>3</td>\n",
              "      <td>4</td>\n",
              "      <td>5.0.6</td>\n",
              "      <td>2020-09-28 17:23:18</td>\n",
              "      <td>Hi, would you please contact us at planner.a@a...</td>\n",
              "      <td>2020-09-29 07:56:34</td>\n",
              "      <td>newest</td>\n",
              "      <td>com.appxy.planner</td>\n",
              "    </tr>\n",
              "    <tr>\n",
              "      <th>11950</th>\n",
              "      <td>gp:AOqpTOE3XpYixxVuyWdS5FwOvmKyLa7NnCPW4GmRNpq...</td>\n",
              "      <td>Bill Teele</td>\n",
              "      <td>https://play-lh.googleusercontent.com/-CYtj1_C...</td>\n",
              "      <td>Not bad. Wish it happens the option for more t...</td>\n",
              "      <td>3</td>\n",
              "      <td>0</td>\n",
              "      <td>5.0.6</td>\n",
              "      <td>2020-09-27 21:33:46</td>\n",
              "      <td>Thanks for your feedback. Would you please tel...</td>\n",
              "      <td>2020-09-29 07:56:05</td>\n",
              "      <td>newest</td>\n",
              "      <td>com.appxy.planner</td>\n",
              "    </tr>\n",
              "    <tr>\n",
              "      <th>12103</th>\n",
              "      <td>gp:AOqpTOFtoXvBAFQJ5M6EqiIxmG7vNLEMt7KWtjg67s8...</td>\n",
              "      <td>Allie Cruce</td>\n",
              "      <td>https://play-lh.googleusercontent.com/a-/AOh14...</td>\n",
              "      <td>Excellent Application! Would've given 5 stars ...</td>\n",
              "      <td>4</td>\n",
              "      <td>2</td>\n",
              "      <td>5.0.5</td>\n",
              "      <td>2020-10-02 13:12:08</td>\n",
              "      <td>Hi, would you please contact us at planner.a@a...</td>\n",
              "      <td>2020-10-02 19:18:50</td>\n",
              "      <td>newest</td>\n",
              "      <td>com.appxy.planner</td>\n",
              "    </tr>\n",
              "  </tbody>\n",
              "</table>\n",
              "</div>\n",
              "      <button class=\"colab-df-convert\" onclick=\"convertToInteractive('df-7980c0b7-e0b4-4c8a-93c3-c314fcb2558c')\"\n",
              "              title=\"Convert this dataframe to an interactive table.\"\n",
              "              style=\"display:none;\">\n",
              "        \n",
              "  <svg xmlns=\"http://www.w3.org/2000/svg\" height=\"24px\"viewBox=\"0 0 24 24\"\n",
              "       width=\"24px\">\n",
              "    <path d=\"M0 0h24v24H0V0z\" fill=\"none\"/>\n",
              "    <path d=\"M18.56 5.44l.94 2.06.94-2.06 2.06-.94-2.06-.94-.94-2.06-.94 2.06-2.06.94zm-11 1L8.5 8.5l.94-2.06 2.06-.94-2.06-.94L8.5 2.5l-.94 2.06-2.06.94zm10 10l.94 2.06.94-2.06 2.06-.94-2.06-.94-.94-2.06-.94 2.06-2.06.94z\"/><path d=\"M17.41 7.96l-1.37-1.37c-.4-.4-.92-.59-1.43-.59-.52 0-1.04.2-1.43.59L10.3 9.45l-7.72 7.72c-.78.78-.78 2.05 0 2.83L4 21.41c.39.39.9.59 1.41.59.51 0 1.02-.2 1.41-.59l7.78-7.78 2.81-2.81c.8-.78.8-2.07 0-2.86zM5.41 20L4 18.59l7.72-7.72 1.47 1.35L5.41 20z\"/>\n",
              "  </svg>\n",
              "      </button>\n",
              "      \n",
              "  <style>\n",
              "    .colab-df-container {\n",
              "      display:flex;\n",
              "      flex-wrap:wrap;\n",
              "      gap: 12px;\n",
              "    }\n",
              "\n",
              "    .colab-df-convert {\n",
              "      background-color: #E8F0FE;\n",
              "      border: none;\n",
              "      border-radius: 50%;\n",
              "      cursor: pointer;\n",
              "      display: none;\n",
              "      fill: #1967D2;\n",
              "      height: 32px;\n",
              "      padding: 0 0 0 0;\n",
              "      width: 32px;\n",
              "    }\n",
              "\n",
              "    .colab-df-convert:hover {\n",
              "      background-color: #E2EBFA;\n",
              "      box-shadow: 0px 1px 2px rgba(60, 64, 67, 0.3), 0px 1px 3px 1px rgba(60, 64, 67, 0.15);\n",
              "      fill: #174EA6;\n",
              "    }\n",
              "\n",
              "    [theme=dark] .colab-df-convert {\n",
              "      background-color: #3B4455;\n",
              "      fill: #D2E3FC;\n",
              "    }\n",
              "\n",
              "    [theme=dark] .colab-df-convert:hover {\n",
              "      background-color: #434B5C;\n",
              "      box-shadow: 0px 1px 3px 1px rgba(0, 0, 0, 0.15);\n",
              "      filter: drop-shadow(0px 1px 2px rgba(0, 0, 0, 0.3));\n",
              "      fill: #FFFFFF;\n",
              "    }\n",
              "  </style>\n",
              "\n",
              "      <script>\n",
              "        const buttonEl =\n",
              "          document.querySelector('#df-7980c0b7-e0b4-4c8a-93c3-c314fcb2558c button.colab-df-convert');\n",
              "        buttonEl.style.display =\n",
              "          google.colab.kernel.accessAllowed ? 'block' : 'none';\n",
              "\n",
              "        async function convertToInteractive(key) {\n",
              "          const element = document.querySelector('#df-7980c0b7-e0b4-4c8a-93c3-c314fcb2558c');\n",
              "          const dataTable =\n",
              "            await google.colab.kernel.invokeFunction('convertToInteractive',\n",
              "                                                     [key], {});\n",
              "          if (!dataTable) return;\n",
              "\n",
              "          const docLinkHtml = 'Like what you see? Visit the ' +\n",
              "            '<a target=\"_blank\" href=https://colab.research.google.com/notebooks/data_table.ipynb>data table notebook</a>'\n",
              "            + ' to learn more about interactive tables.';\n",
              "          element.innerHTML = '';\n",
              "          dataTable['output_type'] = 'display_data';\n",
              "          await google.colab.output.renderOutput(dataTable, element);\n",
              "          const docLink = document.createElement('div');\n",
              "          docLink.innerHTML = docLinkHtml;\n",
              "          element.appendChild(docLink);\n",
              "        }\n",
              "      </script>\n",
              "    </div>\n",
              "  </div>\n",
              "  "
            ]
          },
          "metadata": {},
          "execution_count": 35
        }
      ]
    },
    {
      "cell_type": "markdown",
      "metadata": {
        "id": "P9tcD2LCGnR7"
      },
      "source": [
        "# Sentiment analysis"
      ]
    },
    {
      "cell_type": "code",
      "execution_count": null,
      "metadata": {
        "id": "PREblBpIGnR8"
      },
      "outputs": [],
      "source": [
        "from textblob import TextBlob     # importing Textblob from textblob library\n",
        "\n",
        "# function to calculate polarity\n",
        "def getPolarity(review):\n",
        "    return TextBlob(review).sentiment.polarity\n",
        "\n",
        "# function to calculate subjectivity \n",
        "def getSubjectivity(review):\n",
        "    return TextBlob(review).sentiment.subjectivity\n",
        "\n",
        "# function to analyze the reviews\n",
        "def analysis(score):\n",
        "    if score < 0:\n",
        "        return 'Negative'\n",
        "    elif score == 0:\n",
        "        return 'Neutral'\n",
        "    else:\n",
        "        return 'Positive'"
      ]
    },
    {
      "cell_type": "code",
      "execution_count": null,
      "metadata": {
        "id": "fvsJJ4v1GnR9"
      },
      "outputs": [],
      "source": [
        "fin_data = pd.DataFrame(data['content'])        #getting the content column from csv file ,converting it into dataframe and storing it into fin_data"
      ]
    },
    {
      "cell_type": "code",
      "execution_count": null,
      "metadata": {
        "scrolled": true,
        "colab": {
          "base_uri": "https://localhost:8080/"
        },
        "id": "2Z2F85hbGnR9",
        "outputId": "1c602e95-a6bf-425d-c296-f42150345591"
      },
      "outputs": [
        {
          "output_type": "stream",
          "name": "stderr",
          "text": [
            "IOPub data rate exceeded.\n",
            "The notebook server will temporarily stop sending output\n",
            "to the client in order to avoid crashing it.\n",
            "To change this limit, set the config variable\n",
            "`--NotebookApp.iopub_data_rate_limit`.\n",
            "\n",
            "Current values:\n",
            "NotebookApp.iopub_data_rate_limit=1000000.0 (bytes/sec)\n",
            "NotebookApp.rate_limit_window=3.0 (secs)\n",
            "\n"
          ]
        }
      ],
      "source": [
        "# fin_data['Subjectivity'] = fin_data['Lemma'].apply(getSubjectivity) \n",
        "fin_data['Polarity'] = fin_data['content'].apply(getPolarity)     # checking the polarity of content and assigning it in fin_data ['Polarity ']\n",
        "fin_data['Analysis'] = fin_data['Polarity'].apply(analysis)       # performing analysis on polarity and assigning it in fin_data['Analysis']\n",
        "print(fin_data.to_string())"
      ]
    },
    {
      "cell_type": "code",
      "execution_count": null,
      "metadata": {
        "colab": {
          "base_uri": "https://localhost:8080/"
        },
        "id": "Msd_iN3cGnR-",
        "outputId": "c5e7e92c-339b-4f4b-d9ff-8c11bf960639"
      },
      "outputs": [
        {
          "output_type": "execute_result",
          "data": {
            "text/plain": [
              "Positive    2941\n",
              "Negative     938\n",
              "Neutral      753\n",
              "Name: Analysis, dtype: int64"
            ]
          },
          "metadata": {},
          "execution_count": 39
        }
      ],
      "source": [
        "tb_counts = fin_data.Analysis.value_counts()   #calculating the counts of negative,positive,neutral and assigning it into tb_counts\n",
        "tb_counts"
      ]
    },
    {
      "cell_type": "code",
      "execution_count": null,
      "metadata": {
        "colab": {
          "base_uri": "https://localhost:8080/",
          "height": 428
        },
        "id": "sa6sfB2_GnR_",
        "outputId": "80deac68-484e-4792-d5ca-cf329b5894da"
      },
      "outputs": [
        {
          "output_type": "execute_result",
          "data": {
            "text/plain": [
              "<matplotlib.legend.Legend at 0x7fe30011a4d0>"
            ]
          },
          "metadata": {},
          "execution_count": 42
        },
        {
          "output_type": "display_data",
          "data": {
            "text/plain": [
              "<Figure size 720x504 with 1 Axes>"
            ],
            "image/png": "[encoded data removed]"
          },
          "metadata": {}
        }
      ],
      "source": [
        "import matplotlib.pyplot as plt       #importing matplotlib\n",
        "%matplotlib inline\n",
        "# for making pie chart  \n",
        "tb_count= fin_data.Analysis.value_counts()\n",
        "plt.figure(figsize=(10, 7))\n",
        "plt.pie(tb_counts.values, labels = tb_counts.index, explode = (0, 0, 0.25), autopct='%1.1f%%', shadow=False)      \n",
        "plt.legend()"
      ]
    },
    {
      "cell_type": "code",
      "execution_count": null,
      "metadata": {
        "id": "yzcSZ8hqGnSA"
      },
      "outputs": [],
      "source": [
        ""
      ]
    }
  ],
  "metadata": {
    "kernelspec": {
      "display_name": "Python 3 (ipykernel)",
      "language": "python",
      "name": "python3"
    },
    "language_info": {
      "codemirror_mode": {
        "name": "ipython",
        "version": 3
      },
      "file_extension": ".py",
      "mimetype": "text/x-python",
      "name": "python",
      "nbconvert_exporter": "python",
      "pygments_lexer": "ipython3",
      "version": "3.9.8"
    },
    "colab": {
      "name": "sentiment analysis _worksheet5_21mci1123_shailajakumari",
      "provenance": []
    }
  },
  "nbformat": 4,
  "nbformat_minor": 0
}